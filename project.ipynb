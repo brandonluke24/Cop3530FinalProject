{
 "cells": [
  {
   "cell_type": "code",
   "execution_count": 11,
   "metadata": {},
   "outputs": [],
   "source": [
    "import numpy as np\n",
    "import random\n"
   ]
  },
  {
   "cell_type": "code",
   "execution_count": 12,
   "metadata": {},
   "outputs": [],
   "source": [
    "class Graph:\n",
    "    def __init__(self):\n",
    "        self.adjListOld = [] \n",
    "        self.adjList = np.empty()\n",
    "        self.numNeighbors = np.empty()\n",
    "    def __init__(self, adjList, numNeighbors):\n",
    "        self.adjList = adjList\n",
    "        self.numNeighbors = numNeighbors\n",
    "\n",
    "    def randomAdjList(self, numVertex, maxConnections):\n",
    "        adjListOld = []\n",
    "\n",
    "        for i in range(numVertex):\n",
    "            temp = random.sample(list(set([x for x in range(0, maxConnections+1)]) - set(i)), 3)\n",
    "            self.adjListOld.append(temp)\n",
    "        self.adjList = np.array(adjListOld)\n",
    "        return self.adjList\n",
    "    def stateAdjList(self):\n",
    "\n",
    "        Alabama = [\"Mississippi\", \"Tennessee\", \"Florida\", \"Georgia\"]\n",
    "        Alaska = []\n",
    "        Arizona = [\"Nevada\", \"New Mexico\", \"Utah\", \"California\", \"Colorado\"]\n",
    "        Arkansas = [\"Oklahoma\", \"Tennessee\", \"Texas\", \"Louisiana\", \"Mississippi\", \"Missouri\"]\n",
    "        California = [\"Oregon\", \"Arizona\", \"Nevada\"]\n",
    "        Colorado = [\"New Mexico\", \"Oklahoma\", \"Utah\", \"Wyoming\", \"Arizona\", \"Kansas\", \"Nebraska\"]\n",
    "        Connecticut = [\"Rhode Island\", \"Massachusetts\", \"New York\"]\n",
    "        Delaware = [\"New Jersey\", \"Pennsylvania\", \"Maryland\"]\n",
    "        Florida\t= [\"Georgia\", \"Alabama\"]\n",
    "        Georgia\t= [\"North Carolina\", \"South Carolina\", \"Tennessee\", \"Alabama\", \"Florida\"]\n",
    "        Hawaii = []\n",
    "        Idaho = [\"Utah\", \"Washington\", \"Wyoming\", \"Montana\", \"Nevada\", \"Oregon\"]\n",
    "        Illinois = [\"Kentucky\", \"Missouri\", \"Wisconsin\", \"Indiana\", \"Iowa\", \"Michigan\"]\n",
    "        Indiana = [\"Michigan\", \"Ohio\", \"Illinois\", \"Kentucky\"]\n",
    "        Iowa = [\"Nebraska\", \"South Dakota\", \"Wisconsin\", \"Illinois\", \"Minnesota\", \"Missouri\"]\n",
    "        Kansas = [\"Nebraska\", \"Oklahoma\", \"Colorado\", \"Missouri\"]\n",
    "        Kentucky = [\"Tennessee\", \"Virginia\", \"West Virginia\", \"Illinois\", \"Indiana\", \"Missouri\", \"Ohio\"]\n",
    "        Louisiana = [\"Texas\", \"Arkansas\", \"Mississippi\"]\n",
    "        Maine = [\"New Hampshire\"]\n",
    "        Maryland = [\"Virginia\", \"West Virginia\", \"Delaware\", \"Pennsylvania\"]\n",
    "        Massachusetts = [\"New York\", \"Rhode Island\", \"Vermont\", \"Connecticut\", \"New Hampshire\"]\n",
    "        Michigan = [\"Ohio\", \"Wisconsin\", \"Illinois\", \"Indiana\", \"Minnesota\"]\n",
    "        Minnesota = [\"North Dakota\", \"South Dakota\", \"Wisconsin\", \"Iowa\", \"Michigan\"]\n",
    "        Mississippi = [\"Louisiana\", \"Tennessee\", \"Alabama\", \"Arkansas\"]\n",
    "        Missouri = [\"Nebraska\", \"Oklahoma\", \"Tennessee\", \"Arkansas\", \"Illinois\", \"Iowa\", \"Kansas\", \"Kentucky\"]\n",
    "        Montana = [\"South Dakota\", \"Wyoming\", \"Idaho\", \"North Dakota\"]\n",
    "        Nebraska = [\"Missouri\", \"South Dakota\", \"Wyoming\", \"Colorado\", \"Iowa\", \"Kansas\"]\n",
    "        Nevada = [\"Idaho\", \"Oregon\", \"Utah\", \"Arizona\", \"California\"]\n",
    "        NewHampshire = [\"Vermont\", \"Maine\", \"Massachusetts\"]\n",
    "        NewJersey = [\"Pennsylvania\", \"Delaware\", \"New York\"]\n",
    "        NewMexico = [\"Oklahoma\", \"Texas\", \"Utah\", \"Arizona\", \"Colorado\"]\n",
    "        NewYork = [\"Pennsylvania\", \"Rhode Island\", \"Vermont\", \"Connecticut\", \"Massachusetts\", \"New Jersey\"]\n",
    "        NorthCarolina = [\"Tennessee\", \"Virginia\", \"Georgia\", \"South Carolina\"]\n",
    "        NorthDakota = [\"South Dakota\", \"Minnesota\", \"Montana\"]\n",
    "        Ohio = [\"Michigan\", \"Pennsylvania\", \"West Virginia\", \"Indiana\", \"Kentucky\"]\n",
    "        Oklahoma = [\"Missouri\", \"New Mexico\", \"Texas\", \"Arkansas\", \"Colorado\", \"Kansas\"]\n",
    "        Oregon = [\"Nevada\", \"Washington\", \"California\", \"Idaho\"]\n",
    "        Pennsylvania = [\"New York\", \"Ohio\", \"West Virginia\", \"Delaware\", \"Maryland\", \"New Jersey\"]\n",
    "        RhodeIsland = [\"Massachusetts\", \"New York\", \"Connecticut\"]\n",
    "        SouthCarolina = [\"North Carolina\", \"Georgia\"]\n",
    "        SouthDakota = [\"Nebraska\", \"North Dakota\", \"Wyoming\", \"Iowa\", \"Minnesota\", \"Montana\"]\n",
    "        Tennessee = [\"Mississippi\", \"Missouri\", \"North Carolina\", \"Virginia\", \"Alabama\", \"Arkansas\", \"Georgia\", \"Kentucky\"]\n",
    "        Texas = [\"New Mexico\", \"Oklahoma\", \"Arkansas\", \"Louisiana\"]\n",
    "        Utah = [\"Nevada\", \"New Mexico\", \"Wyoming\", \"Arizona\", \"Colorado\", \"Idaho\"]\n",
    "        Vermont = [\"New Hampshire\", \"New York\", \"Massachusetts\"]\n",
    "        Virginia = [\"North Carolina\", \"Tennessee\", \"West Virginia\", \"Kentucky\", \"Maryland\"]\n",
    "        Washington = [\"Oregon\", \"Idaho\"]\n",
    "        WestVirginia = [\"Pennsylvania\", \"Virginia\", \"Kentucky\", \"Maryland\", \"Ohio\"]\n",
    "        Wisconsin = [\"Michigan\", \"Minnesota\", \"Illinois\", \"Iowa\"]\n",
    "        Wyoming = [\"Nebraska\", \"South Dakota\", \"Utah\", \"Colorado\", \"Idaho\", \"Montana\"]\n",
    "        self.oldAdjList = [Alabama, Alaska, Arizona, Arkansas, California, Colorado, Connecticut, Delaware, Florida, Georgia, Hawaii, Idaho, Illinois, Indiana, Iowa, Kansas, Kentucky, Louisiana, Maine, Maryland, Massachusetts, Michigan, Minnesota, Mississippi, Missouri, Montana, Nebraska, Nevada, NewHampshire, NewJersey, NewMexico, NewYork, NorthCarolina, NorthDakota, Ohio, Oklahoma, Oregon, Pennsylvania, RhodeIsland, SouthCarolina, SouthDakota, Tennessee, Texas, Utah, Vermont, Virginia, Washington, WestVirginia, Wisconsin, Wyoming]\n",
    "        self.adjList = np.array(self.oldAdjList)\n",
    "\n",
    "        return self.adjList\n",
    "\n",
    "\n",
    "\n",
    "\n",
    "\n",
    "\n",
    "\n"
   ]
  },
  {
   "cell_type": "code",
   "execution_count": 9,
   "metadata": {},
   "outputs": [
    {
     "name": "stdout",
     "output_type": "stream",
     "text": [
      "2\n",
      "[1, [2, 3]]\n"
     ]
    }
   ],
   "source": [
    "bob = [1]\n",
    "bob.append([2,3])\n",
    "print(len(bob))\n",
    "print(bob)"
   ]
  }
 ],
 "metadata": {
  "interpreter": {
   "hash": "ecdede3ee117fce16f9afedacb69f17c8a73fd558902dc318e1c4ab38a2b2131"
  },
  "kernelspec": {
   "display_name": "Python 3.9.7 64-bit ('base': conda)",
   "language": "python",
   "name": "python3"
  },
  "language_info": {
   "codemirror_mode": {
    "name": "ipython",
    "version": 3
   },
   "file_extension": ".py",
   "mimetype": "text/x-python",
   "name": "python",
   "nbconvert_exporter": "python",
   "pygments_lexer": "ipython3",
   "version": "3.9.7"
  },
  "orig_nbformat": 4
 },
 "nbformat": 4,
 "nbformat_minor": 2
}
